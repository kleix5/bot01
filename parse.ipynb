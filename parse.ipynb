{
 "cells": [
  {
   "cell_type": "code",
   "execution_count": 1,
   "id": "1d1fbb22-95b4-4eed-94d2-53c6849a8a93",
   "metadata": {},
   "outputs": [],
   "source": [
    "import requests"
   ]
  },
  {
   "cell_type": "code",
   "execution_count": 2,
   "id": "11dde6dc-1e49-46c1-9931-01d0703f34fa",
   "metadata": {},
   "outputs": [],
   "source": [
    "search_city = 'сочи'\n",
    "\n",
    "headers = {\n",
    "  'User-Agent': 'Mozilla/5.0 (compatible; YandexBot/3.0; +http://yandex.com/bots)',\n",
    "  'Token': 'Hy6U3z61fflbgT2yJ/VdlQ2719'\n",
    "}\n",
    "\n",
    "r = requests.get(\n",
    "  'https://sutochno.ru/api/rest/search/getTermSuggestionsWithBoundingBox?query=' + search_city,\n",
    "  headers=headers\n",
    ")\n",
    "location_id = r.json()['data']['suggestions'][0]['location']['id']\n",
    "\n",
    "lr = requests.get(\n",
    "  'https://sutochno.ru/api/rest/search/getTotalFound?location_id=' + location_id + '&location_type=city',\n",
    "  headers=headers\n",
    ")"
   ]
  },
  {
   "cell_type": "code",
   "execution_count": 3,
   "id": "b3917584-9a5d-4629-897a-773106c34e9e",
   "metadata": {},
   "outputs": [
    {
     "data": {
      "text/plain": [
       "{'success': True,\n",
       " 'data': {'suggestions': [{'location': {'id': '287390', 'type': 'city'},\n",
       "    'point': None,\n",
       "    'title': 'Сочи',\n",
       "    'title_ext': 'Краснодарский край',\n",
       "    'bbox': {'SW': {'lat': 43.395071, 'lng': 39.149685},\n",
       "     'NE': {'lat': 44.029938, 'lng': 40.010397}},\n",
       "    'count': 0},\n",
       "   {'location': None,\n",
       "    'point': None,\n",
       "    'title': 'коттеджный посёлок Сочи',\n",
       "    'title_ext': 'Ленинградская область',\n",
       "    'bbox': {'SW': {'lat': 59.680161, 'lng': 29.350404},\n",
       "     'NE': {'lat': 59.687515, 'lng': 29.366502}},\n",
       "    'count': 0},\n",
       "   {'location': None,\n",
       "    'point': None,\n",
       "    'title': 'коттеджный посёлок Сочи',\n",
       "    'title_ext': 'Новосибирская область',\n",
       "    'bbox': {'SW': {'lat': 55.159424, 'lng': 82.775253},\n",
       "     'NE': {'lat': 55.166938, 'lng': 82.783958}},\n",
       "    'count': 0}]},\n",
       " 'errors': [],\n",
       " 'actions': [],\n",
       " 'platform': None,\n",
       " 'uuid': None,\n",
       " 'timestamp': 1704536838}"
      ]
     },
     "execution_count": 3,
     "metadata": {},
     "output_type": "execute_result"
    }
   ],
   "source": [
    "r.json()"
   ]
  },
  {
   "cell_type": "code",
   "execution_count": 4,
   "id": "4aadbb43-36c5-4dd8-bde7-f7555e25066a",
   "metadata": {},
   "outputs": [
    {
     "data": {
      "text/plain": [
       "{'success': True,\n",
       " 'data': {'total_found': 21132},\n",
       " 'errors': [],\n",
       " 'actions': [],\n",
       " 'platform': None,\n",
       " 'uuid': None,\n",
       " 'timestamp': 1704536839}"
      ]
     },
     "execution_count": 4,
     "metadata": {},
     "output_type": "execute_result"
    }
   ],
   "source": [
    "lr.json()"
   ]
  },
  {
   "cell_type": "code",
   "execution_count": null,
   "id": "2327886f-06c9-4f48-b6a6-6e7e0e7f7ae3",
   "metadata": {},
   "outputs": [],
   "source": []
  },
  {
   "cell_type": "code",
   "execution_count": null,
   "id": "2fa3c4aa-a2aa-4228-88e3-f40d30963c8f",
   "metadata": {},
   "outputs": [],
   "source": []
  },
  {
   "cell_type": "code",
   "execution_count": null,
   "id": "b136fbbb-74a2-44cb-8304-d508e13b5853",
   "metadata": {},
   "outputs": [],
   "source": []
  },
  {
   "cell_type": "code",
   "execution_count": null,
   "id": "b67e08bf-de61-4160-b67e-3b5616ce57b8",
   "metadata": {},
   "outputs": [],
   "source": []
  },
  {
   "cell_type": "code",
   "execution_count": null,
   "id": "095e1fe5-9570-4e2a-9331-80eb77598f10",
   "metadata": {},
   "outputs": [],
   "source": []
  },
  {
   "cell_type": "code",
   "execution_count": 20,
   "id": "e54a79ad-1cd8-4b66-a73d-5565063609a5",
   "metadata": {},
   "outputs": [],
   "source": [
    "headers2 = {'Users-Agent': 'Mozilla/5.0 (Windows NT 10.0; Win64; x64) AppleWebKit/537.36 (KHTML, like Gecko) Chrome/120.0.0.0 Safari/537.36',\n",
    "           'Token': 'Hy6U3z61fflbgT2yJ/VdlQ2719'}"
   ]
  },
  {
   "cell_type": "code",
   "execution_count": 6,
   "id": "ca2b6e29-92b2-4fdd-8441-5587bce664eb",
   "metadata": {},
   "outputs": [],
   "source": [
    "link = 'https://sutochno.ru/api/json/search/searchObjectsOnMap?max_guests=2&currency_id=1&count=50&offset=0&zoom=13&NE\\\n",
    "[lat]=43.12900505382698&NE[lng]=44.79331112524414&SW[lat]=42.91362454588247&SW[lng]=44.55264187475586&relevance=pairs&dateBegin=2024-04-08&dateEnd=2024-04-14'"
   ]
  },
  {
   "cell_type": "code",
   "execution_count": 7,
   "id": "56c6b509-9baf-4a97-8f47-dcc926bf11f2",
   "metadata": {},
   "outputs": [],
   "source": [
    "req = requests.get(link, headers=headers)"
   ]
  },
  {
   "cell_type": "code",
   "execution_count": 8,
   "id": "d2610b3e-5966-4b62-a268-07b8128c21f3",
   "metadata": {},
   "outputs": [
    {
     "data": {
      "text/plain": [
       "{'success': False,\n",
       " 'data': [],\n",
       " 'actions': [],\n",
       " 'errors': ['Bad request'],\n",
       " 'platform': None,\n",
       " 'uuid': None}"
      ]
     },
     "execution_count": 8,
     "metadata": {},
     "output_type": "execute_result"
    }
   ],
   "source": [
    "req.json()"
   ]
  },
  {
   "cell_type": "code",
   "execution_count": null,
   "id": "8cc630b4-8e99-4a5e-bb33-57f4c3e6364d",
   "metadata": {},
   "outputs": [],
   "source": [
    "!dir"
   ]
  },
  {
   "cell_type": "code",
   "execution_count": null,
   "id": "9952f65d-c12d-4116-b99a-89d3d10c55e5",
   "metadata": {},
   "outputs": [],
   "source": []
  },
  {
   "cell_type": "code",
   "execution_count": null,
   "id": "c8c0ff70-06af-4c65-bc20-c34508116a3d",
   "metadata": {},
   "outputs": [],
   "source": []
  },
  {
   "cell_type": "code",
   "execution_count": 1,
   "id": "cc987d32-65e9-499a-a2ad-1c435f9f4306",
   "metadata": {},
   "outputs": [],
   "source": [
    "import json"
   ]
  },
  {
   "cell_type": "markdown",
   "id": "89fd0626-dae2-4c34-8632-35a9c52a6bd8",
   "metadata": {},
   "source": [
    "SUTOCHNO"
   ]
  },
  {
   "cell_type": "code",
   "execution_count": 2,
   "id": "297a4037-05d9-4e09-b5d9-b00c6b5e1858",
   "metadata": {},
   "outputs": [],
   "source": [
    "def meanSutPrice(city: json) -> float:\n",
    "    f = open(city)\n",
    "    data = json.load(f)\n",
    "    places = data['data']['objects']\n",
    "    prices = []\n",
    "    for i in places:\n",
    "        for k, v in i.items():\n",
    "            if k == 'price':\n",
    "                prices.append(i[k])\n",
    "    result = sum(prices)/len(places)\n",
    "    f.close()\n",
    "    return result"
   ]
  },
  {
   "cell_type": "code",
   "execution_count": 4,
   "id": "d76190c8-2079-45eb-bd30-0974cd8dd1bc",
   "metadata": {},
   "outputs": [
    {
     "data": {
      "text/plain": [
       "2841.6"
      ]
     },
     "execution_count": 4,
     "metadata": {},
     "output_type": "execute_result"
    }
   ],
   "source": [
    "meanSutPrice('Vladikavkaz.json')"
   ]
  },
  {
   "cell_type": "code",
   "execution_count": 11,
   "id": "bf3e011e-f985-4909-94d5-7bcf230aae2d",
   "metadata": {},
   "outputs": [
    {
     "data": {
      "text/plain": [
       "3057.0"
      ]
     },
     "execution_count": 11,
     "metadata": {},
     "output_type": "execute_result"
    }
   ],
   "source": [
    "meanSutPrice('Kislovodsk.json')"
   ]
  },
  {
   "cell_type": "code",
   "execution_count": 12,
   "id": "849f3d0d-54b6-4beb-82f8-4e3ce7e9d3eb",
   "metadata": {},
   "outputs": [
    {
     "data": {
      "text/plain": [
       "3620.0"
      ]
     },
     "execution_count": 12,
     "metadata": {},
     "output_type": "execute_result"
    }
   ],
   "source": [
    "meanSutPrice('Pyatigorsk.json')"
   ]
  },
  {
   "cell_type": "code",
   "execution_count": 13,
   "id": "245b03de-a6ae-4ae3-a690-44715de5d3f0",
   "metadata": {},
   "outputs": [
    {
     "data": {
      "text/plain": [
       "2689.5666666666666"
      ]
     },
     "execution_count": 13,
     "metadata": {},
     "output_type": "execute_result"
    }
   ],
   "source": [
    "meanSutPrice('Essentuky.json')        "
   ]
  },
  {
   "cell_type": "code",
   "execution_count": 9,
   "id": "2ce9f5ec-13a2-4412-917c-e19ecd32e25f",
   "metadata": {},
   "outputs": [
    {
     "data": {
      "text/plain": [
       "30"
      ]
     },
     "execution_count": 9,
     "metadata": {},
     "output_type": "execute_result"
    }
   ],
   "source": [
    "f = open('Kislovodsk.json')\n",
    "data = json.load(f)\n",
    "len(data['data']['objects'])\n"
   ]
  },
  {
   "cell_type": "code",
   "execution_count": 15,
   "id": "f57d972f-9284-4e3d-8290-7f09754bed64",
   "metadata": {},
   "outputs": [],
   "source": [
    "f.close()"
   ]
  },
  {
   "cell_type": "markdown",
   "id": "7180cf19-44dd-4346-a918-ec6c5cd1efc7",
   "metadata": {},
   "source": [
    "OSTROVOK;\n",
    "just 20 objects"
   ]
  },
  {
   "cell_type": "code",
   "execution_count": 2,
   "id": "80b9cfca-9213-4445-9e06-0492bb8fd7b0",
   "metadata": {},
   "outputs": [],
   "source": [
    "f = open('ost_vlad.json')\n",
    "data = json.load(f)"
   ]
  },
  {
   "cell_type": "code",
   "execution_count": 21,
   "id": "915b2d55-b4b9-44e8-b8e1-04c4581149a5",
   "metadata": {},
   "outputs": [
    {
     "data": {
      "text/plain": [
       "'4446.90'"
      ]
     },
     "execution_count": 21,
     "metadata": {},
     "output_type": "execute_result"
    }
   ],
   "source": [
    "data['hotels'][0]['rates'][0]['payment_options']['payment_types'][0]['amount']"
   ]
  },
  {
   "cell_type": "code",
   "execution_count": 22,
   "id": "4bef70e4-1305-43f9-9d3c-2bbd42b92ca3",
   "metadata": {},
   "outputs": [],
   "source": [
    "f.close()"
   ]
  },
  {
   "cell_type": "code",
   "execution_count": 24,
   "id": "940dc17a-7d81-4e59-841b-f5e9d8461fd8",
   "metadata": {},
   "outputs": [
    {
     "data": {
      "text/plain": [
       "20"
      ]
     },
     "execution_count": 24,
     "metadata": {},
     "output_type": "execute_result"
    }
   ],
   "source": [
    "len(data['hotels'])"
   ]
  },
  {
   "cell_type": "code",
   "execution_count": 28,
   "id": "e781c60a-2872-4600-a644-3da68f63c955",
   "metadata": {},
   "outputs": [],
   "source": [
    "def meanOstPrice(city: json) -> float:\n",
    "    f = open(city)\n",
    "    data = json.load(f)\n",
    "    places = data['hotels']\n",
    "    prices = []\n",
    "    for i in range(len(places)):\n",
    "        prices.append(float(places[i]['rates'][0]['payment_options']['payment_types'][0]['amount']))\n",
    "    result = sum(prices)/len(places)\n",
    "    f.close()\n",
    "    return result"
   ]
  },
  {
   "cell_type": "code",
   "execution_count": 29,
   "id": "638bfc34-271a-49da-a17c-ca020d54cf13",
   "metadata": {},
   "outputs": [
    {
     "data": {
      "text/plain": [
       "3828.245"
      ]
     },
     "execution_count": 29,
     "metadata": {},
     "output_type": "execute_result"
    }
   ],
   "source": [
    "meanOstPrice('ost_vlad.json')"
   ]
  },
  {
   "cell_type": "code",
   "execution_count": 30,
   "id": "79feeb34-bf2d-4f39-a4b7-10ad7664ce6a",
   "metadata": {},
   "outputs": [
    {
     "data": {
      "text/plain": [
       "5905.25"
      ]
     },
     "execution_count": 30,
     "metadata": {},
     "output_type": "execute_result"
    }
   ],
   "source": [
    "meanOstPrice('ost_kisl.json')"
   ]
  },
  {
   "cell_type": "code",
   "execution_count": null,
   "id": "25c1a405-8076-4cbf-bc89-237aa512cd7c",
   "metadata": {},
   "outputs": [],
   "source": []
  }
 ],
 "metadata": {
  "kernelspec": {
   "display_name": "bot01",
   "language": "python",
   "name": "bot01"
  },
  "language_info": {
   "codemirror_mode": {
    "name": "ipython",
    "version": 3
   },
   "file_extension": ".py",
   "mimetype": "text/x-python",
   "name": "python",
   "nbconvert_exporter": "python",
   "pygments_lexer": "ipython3",
   "version": "3.10.12"
  }
 },
 "nbformat": 4,
 "nbformat_minor": 5
}
