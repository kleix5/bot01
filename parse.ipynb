{
 "cells": [
  {
   "cell_type": "code",
   "execution_count": 1,
   "id": "1d1fbb22-95b4-4eed-94d2-53c6849a8a93",
   "metadata": {},
   "outputs": [],
   "source": [
    "import requests"
   ]
  },
  {
   "cell_type": "code",
   "execution_count": 2,
   "id": "11dde6dc-1e49-46c1-9931-01d0703f34fa",
   "metadata": {},
   "outputs": [],
   "source": [
    "search_city = 'сочи'\n",
    "\n",
    "headers = {\n",
    "  'User-Agent': 'Mozilla/5.0 (compatible; YandexBot/3.0; +http://yandex.com/bots)',\n",
    "  'Token': 'Hy6U3z61fflbgT2yJ/VdlQ2719'\n",
    "}\n",
    "\n",
    "r = requests.get(\n",
    "  'https://sutochno.ru/api/rest/search/getTermSuggestionsWithBoundingBox?query=' + search_city,\n",
    "  headers=headers\n",
    ")\n",
    "location_id = r.json()['data']['suggestions'][0]['location']['id']\n",
    "\n",
    "lr = requests.get(\n",
    "  'https://sutochno.ru/api/rest/search/getTotalFound?location_id=' + location_id + '&location_type=city',\n",
    "  headers=headers\n",
    ")"
   ]
  },
  {
   "cell_type": "code",
   "execution_count": 3,
   "id": "b3917584-9a5d-4629-897a-773106c34e9e",
   "metadata": {},
   "outputs": [
    {
     "data": {
      "text/plain": [
       "{'success': True,\n",
       " 'data': {'suggestions': [{'location': {'id': '287390', 'type': 'city'},\n",
       "    'point': None,\n",
       "    'title': 'Сочи',\n",
       "    'title_ext': 'Краснодарский край',\n",
       "    'bbox': {'SW': {'lat': 43.395071, 'lng': 39.149685},\n",
       "     'NE': {'lat': 44.029938, 'lng': 40.010397}},\n",
       "    'count': 0},\n",
       "   {'location': None,\n",
       "    'point': None,\n",
       "    'title': 'коттеджный посёлок Сочи',\n",
       "    'title_ext': 'Ленинградская область',\n",
       "    'bbox': {'SW': {'lat': 59.680161, 'lng': 29.350404},\n",
       "     'NE': {'lat': 59.687515, 'lng': 29.366502}},\n",
       "    'count': 0},\n",
       "   {'location': None,\n",
       "    'point': None,\n",
       "    'title': 'коттеджный посёлок Сочи',\n",
       "    'title_ext': 'Новосибирская область',\n",
       "    'bbox': {'SW': {'lat': 55.159424, 'lng': 82.775253},\n",
       "     'NE': {'lat': 55.166938, 'lng': 82.783958}},\n",
       "    'count': 0}]},\n",
       " 'errors': [],\n",
       " 'actions': [],\n",
       " 'platform': None,\n",
       " 'uuid': None,\n",
       " 'timestamp': 1704536838}"
      ]
     },
     "execution_count": 3,
     "metadata": {},
     "output_type": "execute_result"
    }
   ],
   "source": [
    "r.json()"
   ]
  },
  {
   "cell_type": "code",
   "execution_count": 4,
   "id": "4aadbb43-36c5-4dd8-bde7-f7555e25066a",
   "metadata": {},
   "outputs": [
    {
     "data": {
      "text/plain": [
       "{'success': True,\n",
       " 'data': {'total_found': 21132},\n",
       " 'errors': [],\n",
       " 'actions': [],\n",
       " 'platform': None,\n",
       " 'uuid': None,\n",
       " 'timestamp': 1704536839}"
      ]
     },
     "execution_count": 4,
     "metadata": {},
     "output_type": "execute_result"
    }
   ],
   "source": [
    "lr.json()"
   ]
  },
  {
   "cell_type": "code",
   "execution_count": null,
   "id": "2327886f-06c9-4f48-b6a6-6e7e0e7f7ae3",
   "metadata": {},
   "outputs": [],
   "source": []
  },
  {
   "cell_type": "code",
   "execution_count": null,
   "id": "2fa3c4aa-a2aa-4228-88e3-f40d30963c8f",
   "metadata": {},
   "outputs": [],
   "source": []
  },
  {
   "cell_type": "code",
   "execution_count": null,
   "id": "b136fbbb-74a2-44cb-8304-d508e13b5853",
   "metadata": {},
   "outputs": [],
   "source": []
  },
  {
   "cell_type": "code",
   "execution_count": null,
   "id": "b67e08bf-de61-4160-b67e-3b5616ce57b8",
   "metadata": {},
   "outputs": [],
   "source": []
  },
  {
   "cell_type": "code",
   "execution_count": null,
   "id": "095e1fe5-9570-4e2a-9331-80eb77598f10",
   "metadata": {},
   "outputs": [],
   "source": []
  },
  {
   "cell_type": "code",
   "execution_count": 20,
   "id": "e54a79ad-1cd8-4b66-a73d-5565063609a5",
   "metadata": {},
   "outputs": [],
   "source": [
    "headers2 = {'Users-Agent': 'Mozilla/5.0 (Windows NT 10.0; Win64; x64) AppleWebKit/537.36 (KHTML, like Gecko) Chrome/120.0.0.0 Safari/537.36',\n",
    "           'Token': 'Hy6U3z61fflbgT2yJ/VdlQ2719'}"
   ]
  },
  {
   "cell_type": "code",
   "execution_count": 6,
   "id": "ca2b6e29-92b2-4fdd-8441-5587bce664eb",
   "metadata": {},
   "outputs": [],
   "source": [
    "link = 'https://sutochno.ru/api/json/search/searchObjectsOnMap?max_guests=2&currency_id=1&count=50&offset=0&zoom=13&NE\\\n",
    "[lat]=43.12900505382698&NE[lng]=44.79331112524414&SW[lat]=42.91362454588247&SW[lng]=44.55264187475586&relevance=pairs&dateBegin=2024-04-08&dateEnd=2024-04-14'"
   ]
  },
  {
   "cell_type": "code",
   "execution_count": 7,
   "id": "56c6b509-9baf-4a97-8f47-dcc926bf11f2",
   "metadata": {},
   "outputs": [],
   "source": [
    "req = requests.get(link, headers=headers)"
   ]
  },
  {
   "cell_type": "code",
   "execution_count": 8,
   "id": "d2610b3e-5966-4b62-a268-07b8128c21f3",
   "metadata": {},
   "outputs": [
    {
     "data": {
      "text/plain": [
       "{'success': False,\n",
       " 'data': [],\n",
       " 'actions': [],\n",
       " 'errors': ['Bad request'],\n",
       " 'platform': None,\n",
       " 'uuid': None}"
      ]
     },
     "execution_count": 8,
     "metadata": {},
     "output_type": "execute_result"
    }
   ],
   "source": [
    "req.json()"
   ]
  },
  {
   "cell_type": "code",
   "execution_count": 23,
   "id": "97d4e1e4-5bfe-4dda-9547-8381ca1bb5f1",
   "metadata": {},
   "outputs": [
    {
     "name": "stdout",
     "output_type": "stream",
     "text": [
      " Volume in drive C has no label.\n",
      " Volume Serial Number is 8CA0-EAC9\n",
      "\n",
      " Directory of C:\\py_projects\\bot01\n",
      "\n",
      "28.12.2023  12:14    <DIR>          .\n",
      "28.12.2023  12:14    <DIR>          ..\n",
      "27.12.2023  18:20    <DIR>          .ipynb_checkpoints\n",
      "25.12.2023  17:11    <DIR>          .venv\n",
      "25.12.2023  14:23    <DIR>          data\n",
      "21.12.2023  20:52       109В 614В 747 data-51-structure-6.csv.zip\n",
      "21.12.2023  21:03       212В 029В 504 data-51-structure-6.json.zip\n",
      "25.12.2023  14:21    <DIR>          data_json\n",
      "25.12.2023  17:17            42В 909 mondb.ipynb\n",
      "25.12.2023  19:08            25В 123 scrap.ipynb\n",
      "28.12.2023  12:14             3В 340 Untitled.ipynb\n",
      "25.12.2023  16:42             1В 719 webscrap.py\n",
      "               6 File(s)    321В 717В 342 bytes\n",
      "               6 Dir(s)  106В 420В 654В 080 bytes free\n"
     ]
    }
   ],
   "source": [
    "!dir"
   ]
  },
  {
   "cell_type": "code",
   "execution_count": null,
   "id": "9952f65d-c12d-4116-b99a-89d3d10c55e5",
   "metadata": {},
   "outputs": [],
   "source": []
  },
  {
   "cell_type": "code",
   "execution_count": 1,
   "id": "cc987d32-65e9-499a-a2ad-1c435f9f4306",
   "metadata": {},
   "outputs": [],
   "source": [
    "import json"
   ]
  },
  {
   "cell_type": "code",
   "execution_count": 13,
   "id": "297a4037-05d9-4e09-b5d9-b00c6b5e1858",
   "metadata": {},
   "outputs": [],
   "source": [
    "def meanSutPrice(city: json) -> float:\n",
    "    f = open(city)\n",
    "    data = json.load(f)\n",
    "    places = data['data']['objects']\n",
    "    prices = []\n",
    "    for i in places:\n",
    "        for k, v in i.items():\n",
    "            if k == 'price':\n",
    "                prices.append(i[k])\n",
    "    result = sum(prices)/len(places)\n",
    "    f.close()\n",
    "    return result"
   ]
  },
  {
   "cell_type": "code",
   "execution_count": 14,
   "id": "d76190c8-2079-45eb-bd30-0974cd8dd1bc",
   "metadata": {},
   "outputs": [
    {
     "data": {
      "text/plain": [
       "2653.22"
      ]
     },
     "execution_count": 14,
     "metadata": {},
     "output_type": "execute_result"
    }
   ],
   "source": [
    "meanSutPrice('Vladikavkaz.json')"
   ]
  },
  {
   "cell_type": "code",
   "execution_count": 3,
   "id": "bf3e011e-f985-4909-94d5-7bcf230aae2d",
   "metadata": {},
   "outputs": [],
   "source": [
    "\n"
   ]
  },
  {
   "cell_type": "code",
   "execution_count": 4,
   "id": "849f3d0d-54b6-4beb-82f8-4e3ce7e9d3eb",
   "metadata": {},
   "outputs": [],
   "source": []
  },
  {
   "cell_type": "code",
   "execution_count": 5,
   "id": "245b03de-a6ae-4ae3-a690-44715de5d3f0",
   "metadata": {},
   "outputs": [],
   "source": [
    "\n",
    "        "
   ]
  },
  {
   "cell_type": "code",
   "execution_count": 6,
   "id": "2ce9f5ec-13a2-4412-917c-e19ecd32e25f",
   "metadata": {},
   "outputs": [
    {
     "data": {
      "text/plain": [
       "2653.22"
      ]
     },
     "execution_count": 6,
     "metadata": {},
     "output_type": "execute_result"
    }
   ],
   "source": []
  },
  {
   "cell_type": "code",
   "execution_count": 7,
   "id": "f7627d91-ca9b-4760-b714-5ff626c8b9df",
   "metadata": {},
   "outputs": [],
   "source": [
    "f.close()"
   ]
  },
  {
   "cell_type": "code",
   "execution_count": null,
   "id": "5ba93fa4-df9c-4f79-a7bd-017db4d36f1b",
   "metadata": {},
   "outputs": [],
   "source": []
  },
  {
   "cell_type": "code",
   "execution_count": null,
   "id": "80b9cfca-9213-4445-9e06-0492bb8fd7b0",
   "metadata": {},
   "outputs": [],
   "source": []
  },
  {
   "cell_type": "code",
   "execution_count": 38,
   "id": "915b2d55-b4b9-44e8-b8e1-04c4581149a5",
   "metadata": {},
   "outputs": [],
   "source": []
  },
  {
   "cell_type": "code",
   "execution_count": null,
   "id": "4bef70e4-1305-43f9-9d3c-2bbd42b92ca3",
   "metadata": {},
   "outputs": [],
   "source": []
  }
 ],
 "metadata": {
  "kernelspec": {
   "display_name": "bot01",
   "language": "python",
   "name": "bot01"
  },
  "language_info": {
   "codemirror_mode": {
    "name": "ipython",
    "version": 3
   },
   "file_extension": ".py",
   "mimetype": "text/x-python",
   "name": "python",
   "nbconvert_exporter": "python",
   "pygments_lexer": "ipython3",
   "version": "3.10.2"
  }
 },
 "nbformat": 4,
 "nbformat_minor": 5
}
